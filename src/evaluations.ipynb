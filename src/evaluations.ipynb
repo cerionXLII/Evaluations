{
 "cells": [
  {
   "cell_type": "markdown",
   "metadata": {},
   "source": [
    "# Evaluations of companies using the DCF method\n"
   ]
  },
  {
   "cell_type": "code",
   "execution_count": 3,
   "metadata": {},
   "outputs": [],
   "source": [
    "def valuate_company(\n",
    "    ebit,                       # Earnings Before Interest and Taxes (initial year)\n",
    "    tax_rate,                   # Corporate tax rate (e.g., 0.20 for 20%)\n",
    "    depreciation,               # Annual depreciation expense (non-cash)\n",
    "    capex,                      # Annual capital expenditures (investments in fixed assets)\n",
    "    working_capital_change,     # Annual change in working capital (inventory, receivables, payables)\n",
    "    growth_rate,                # Annual growth rate in EBIT during the forecast period\n",
    "    perpetual_growth_rate,      # Perpetual growth rate after forecast period\n",
    "    discount_rate,              # Discount rate (Weighted Average Cost of Capital - WACC)\n",
    "    forecast_years,             # Number of years in the explicit forecast period\n",
    "    cash,                       # Current cash balance of the company\n",
    "    debt                        # Current debt of the company\n",
    "):\n",
    "    total_value = 0\n",
    "\n",
    "    # Step 1: Calculate discounted cash flows during the forecast period\n",
    "    for year in range(1, forecast_years + 1):\n",
    "        # Project EBIT for the given year based on initial EBIT and growth rate\n",
    "        projected_ebit = ebit * ((1 + growth_rate) ** year)\n",
    "        \n",
    "        # Net Operating Profit After Tax (NOPAT)\n",
    "        nopat = projected_ebit * (1 - tax_rate)\n",
    "        \n",
    "        # Calculate free cash flow by adjusting NOPAT for depreciation, capital expenditures, and working capital\n",
    "        free_cash_flow = nopat + depreciation - capex - working_capital_change\n",
    "        \n",
    "        # Discount the free cash flow back to present value\n",
    "        discounted_cash_flow = free_cash_flow / ((1 + discount_rate) ** year)\n",
    "        \n",
    "        # Sum the discounted cash flows\n",
    "        total_value += discounted_cash_flow\n",
    "\n",
    "    # Step 2: Calculate terminal value (value after forecast period)\n",
    "    # EBIT in the final forecast year\n",
    "    final_year_ebit = ebit * ((1 + growth_rate) ** forecast_years)\n",
    "    \n",
    "    # NOPAT in the final forecast year\n",
    "    final_year_nopat = final_year_ebit * (1 - tax_rate)\n",
    "    \n",
    "    # Free cash flow for terminal year\n",
    "    terminal_cash_flow = final_year_nopat + depreciation - capex - working_capital_change\n",
    "    \n",
    "    # Calculate terminal value using Gordon Growth model\n",
    "    terminal_value = terminal_cash_flow * (1 + perpetual_growth_rate) / (discount_rate - perpetual_growth_rate)\n",
    "    \n",
    "    # Discount the terminal value back to present value\n",
    "    discounted_terminal_value = terminal_value / ((1 + discount_rate) ** forecast_years)\n",
    "\n",
    "    # Add discounted terminal value to total\n",
    "    total_value += discounted_terminal_value\n",
    "\n",
    "    # Step 3: Adjust for cash and debt to calculate equity value\n",
    "    company_equity_value = total_value + cash - debt\n",
    "\n",
    "    return company_equity_value"
   ]
  },
  {
   "cell_type": "code",
   "execution_count": 4,
   "metadata": {},
   "outputs": [
    {
     "name": "stdout",
     "output_type": "stream",
     "text": [
      "Company value: 5268894.88 kr\n"
     ]
    }
   ],
   "source": [
    "# Fake data for testing\n",
    "company_value = valuate_company(\n",
    "    ebit=500000,\n",
    "    tax_rate=0.20,\n",
    "    depreciation=50000,\n",
    "    capex=80000,\n",
    "    working_capital_change=70000,\n",
    "    growth_rate=0.10,\n",
    "    perpetual_growth_rate=0.03,\n",
    "    discount_rate=0.12,\n",
    "    forecast_years=5,\n",
    "    cash=200000,\n",
    "    debt=0\n",
    ")\n",
    "\n",
    "print(f\"Company value: {company_value:.2f} kr\")"
   ]
  },
  {
   "cell_type": "code",
   "execution_count": null,
   "metadata": {},
   "outputs": [],
   "source": []
  }
 ],
 "metadata": {
  "kernelspec": {
   "display_name": "tf38",
   "language": "python",
   "name": "python3"
  },
  "language_info": {
   "codemirror_mode": {
    "name": "ipython",
    "version": 3
   },
   "file_extension": ".py",
   "mimetype": "text/x-python",
   "name": "python",
   "nbconvert_exporter": "python",
   "pygments_lexer": "ipython3",
   "version": "3.8.20"
  }
 },
 "nbformat": 4,
 "nbformat_minor": 2
}
